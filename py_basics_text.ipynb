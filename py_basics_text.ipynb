{
 "cells": [
  {
   "cell_type": "markdown",
   "metadata": {},
   "source": [
    "# Text analysis with python, for non-pythoners\n",
    "\n",
    "## Objectives \n",
    "\n",
    "This guide has the main aim of introduce python by enabling the reader to work with text data. In my perspective learning without purpose can be hard, because the absence of motivation makes difficult to focus, deal with somehow boring though necessary tasks, etcetera. All the cumbersomness flyes away when you are motivated by a greater aim, the ultime goal of your project. In this period, I am very interested in applying machine learning in NLP context. Hence I need to be proficient with manipulating strings, such as implement foor loops over documents, create word datasets, modify words, and so and so forth.\n",
    "\n",
    "This notebook explains the basics of python language, datatypes, how to write *functions* and *classes*, the syntax of loops and vectorized operations **while working with text**.\n",
    "Hence in the same moments we will learn same basic package for text manipulation, regular expression, extraction,.. and other 'fancy' terms, such as *tokenization*. \n",
    "\n",
    "## Overview\n",
    "\n",
    "A raw "
   ]
  },
  {
   "cell_type": "markdown",
   "metadata": {},
   "source": [
    "## Data types\n",
    "\n",
    "The first data type is the **boolean** which only takes values TRUE and FALSE"
   ]
  },
  {
   "cell_type": "code",
   "execution_count": 1,
   "metadata": {},
   "outputs": [
    {
     "data": {
      "text/plain": [
       "False"
      ]
     },
     "execution_count": 1,
     "metadata": {},
     "output_type": "execute_result"
    }
   ],
   "source": [
    "3>3"
   ]
  },
  {
   "cell_type": "markdown",
   "metadata": {},
   "source": [
    "While"
   ]
  },
  {
   "cell_type": "code",
   "execution_count": 4,
   "metadata": {},
   "outputs": [
    {
     "data": {
      "text/plain": [
       "True"
      ]
     },
     "execution_count": 4,
     "metadata": {},
     "output_type": "execute_result"
    }
   ],
   "source": [
    "\"vincenzo\" == \"vincenzo\""
   ]
  },
  {
   "cell_type": "markdown",
   "metadata": {},
   "source": [
    "In python basic data types are containers or sequences.  Each element of a sequence is assigned a number - its position or index. The first index is zero, the second index is one, and so forth. \n",
    "There are four type of sequences (or, again, containers) in python:\n",
    "1. lists\n",
    "2. tuples\n",
    "3. sets\n",
    "4. dictionaries\n",
    "\n",
    "### Lists \n",
    "\n",
    "List are very versatile mainly because they can be easily (i) accessible and (ii) modifiable; moreover they (iii) do not need to include elements of the same type.\n",
    "To create a list you just need to put some elemens comma-separeted between square brackets.\n",
    "\n",
    "For more details on methods working on lists check this [link](https://docs.python.org/3/tutorial/datastructures.html)"
   ]
  },
  {
   "cell_type": "code",
   "execution_count": 7,
   "metadata": {},
   "outputs": [
    {
     "data": {
      "text/plain": [
       "['vincenzo', 3, 3.004, (2, 2)]"
      ]
     },
     "execution_count": 7,
     "metadata": {},
     "output_type": "execute_result"
    }
   ],
   "source": [
    "example_list = [\"vincenzo\", 3, 3.004, (2,2)]\n",
    "\n",
    "example_list"
   ]
  },
  {
   "cell_type": "markdown",
   "metadata": {},
   "source": [
    "A list is accessed by its *index* in square brackets (remember it starts from 0) "
   ]
  },
  {
   "cell_type": "code",
   "execution_count": 8,
   "metadata": {},
   "outputs": [
    {
     "data": {
      "text/plain": [
       "'vincenzo'"
      ]
     },
     "execution_count": 8,
     "metadata": {},
     "output_type": "execute_result"
    }
   ],
   "source": [
    "example_list[0]"
   ]
  },
  {
   "cell_type": "markdown",
   "metadata": {},
   "source": [
    "What happens if we try to change a values inside a list?"
   ]
  },
  {
   "cell_type": "code",
   "execution_count": 10,
   "metadata": {},
   "outputs": [
    {
     "data": {
      "text/plain": [
       "['Alberto', 3, 3.004, (2, 2)]"
      ]
     },
     "execution_count": 10,
     "metadata": {},
     "output_type": "execute_result"
    }
   ],
   "source": [
    "example_list[0] = \"Alberto\"\n",
    "\n",
    "example_list"
   ]
  },
  {
   "cell_type": "markdown",
   "metadata": {},
   "source": [
    "Other operations include"
   ]
  },
  {
   "cell_type": "code",
   "execution_count": 15,
   "metadata": {},
   "outputs": [
    {
     "name": "stdout",
     "output_type": "stream",
     "text": [
      "4 ['Alberto', 3, 3.004, (2, 2), 1, 'carolina'] ['Alberto', 3, 3.004, (2, 2), 'Alberto', 3, 3.004, (2, 2)] False [3, 3.004, (2, 2)]\n"
     ]
    }
   ],
   "source": [
    "lenghth = len(example_list)\n",
    "concatenation = example_list + [1,\"carolina\"]\n",
    "repetition = example_list*2\n",
    "membership = \"vincenzo\" in example_list\n",
    "slicing = example_list[1:]\n",
    "\n",
    "print(lenghth, concatenation, repetition, membership, slicing)"
   ]
  },
  {
   "cell_type": "code",
   "execution_count": 1,
   "metadata": {},
   "outputs": [
    {
     "ename": "NameError",
     "evalue": "name 'example_list' is not defined",
     "output_type": "error",
     "traceback": [
      "\u001b[0;31m---------------------------------------------------------------------------\u001b[0m",
      "\u001b[0;31mNameError\u001b[0m                                 Traceback (most recent call last)",
      "\u001b[0;32m<ipython-input-1-219fa05caa2f>\u001b[0m in \u001b[0;36m<module>\u001b[0;34m\u001b[0m\n\u001b[1;32m      1\u001b[0m \u001b[0;31m# notice that although min is a legit function for list, it does not work with mixed types\u001b[0m\u001b[0;34m\u001b[0m\u001b[0;34m\u001b[0m\u001b[0;34m\u001b[0m\u001b[0m\n\u001b[0;32m----> 2\u001b[0;31m \u001b[0mmin\u001b[0m\u001b[0;34m(\u001b[0m\u001b[0mexample_list\u001b[0m\u001b[0;34m)\u001b[0m\u001b[0;34m\u001b[0m\u001b[0;34m\u001b[0m\u001b[0m\n\u001b[0m",
      "\u001b[0;31mNameError\u001b[0m: name 'example_list' is not defined"
     ]
    }
   ],
   "source": [
    "# notice that although min is a legit function for list, it does not work with mixed types \n",
    "min(example_list)"
   ]
  },
  {
   "cell_type": "code",
   "execution_count": null,
   "metadata": {},
   "outputs": [],
   "source": []
  }
 ],
 "metadata": {
  "kernelspec": {
   "display_name": "Python 3",
   "language": "python",
   "name": "python3"
  },
  "language_info": {
   "codemirror_mode": {
    "name": "ipython",
    "version": 3
   },
   "file_extension": ".py",
   "mimetype": "text/x-python",
   "name": "python",
   "nbconvert_exporter": "python",
   "pygments_lexer": "ipython3",
   "version": "3.7.4"
  }
 },
 "nbformat": 4,
 "nbformat_minor": 2
}
